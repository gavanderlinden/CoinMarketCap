{
 "cells": [
  {
   "cell_type": "code",
   "execution_count": null,
   "metadata": {
    "collapsed": true
   },
   "outputs": [],
   "source": [
    "import requests\n",
    "import subprocess\n",
    "import pandas as pd\n",
    "import datetime\n",
    "%matplotlib inline"
   ]
  },
  {
   "cell_type": "markdown",
   "metadata": {
    "collapsed": true
   },
   "source": [
    "proc = subprocess.Popen(\n",
    "    [\n",
    "        \"scp\",\n",
    "        \"translate:/home/holidaycheck/Notebooks/Tony/Other/coinmarketcap.csv\",\n",
    "        \".\"\n",
    "    ],\n",
    "    stdout=subprocess.PIPE,\n",
    "    stderr=subprocess.PIPE\n",
    ")\n",
    "proc.wait()\n",
    "print(\"RESULT: %s\" % repr(proc.stderr.readline()))"
   ]
  },
  {
   "cell_type": "code",
   "execution_count": null,
   "metadata": {
    "collapsed": true
   },
   "outputs": [],
   "source": [
    "changelly_currencies = [\n",
    "    \"Bitcoin\", \"Litecoin\", \"Bytecoin\",\n",
    "    \"Monero\", \"DigitalNote\", \"QuazarCoin\",\n",
    "    \"Dashcoin\", \"Fantomcoin\", \"Dogecoin\",\n",
    "    \"Ethereum\", \"NuBits\", \"Dash\",\n",
    "    \"Ripple\", \"Next\", \"Aeon\",\n",
    "    \"Radium\", \"MaidSafeCoin\", \"Factom\",\n",
    "    \"Synereo\", \"Lisk\", \"Ethereum Classic\",\n",
    "    \"Expanse\", \"NEM\", \"Steem\",\n",
    "    \"LBRY Credits\", \"Stratis\", \"Ardor\",\n",
    "    \"Gulden\", \"NAV Coin\", \"GameCredits\",\n",
    "    \"PotCoin\", \"Tether\", \"Golem\",\n",
    "    \"Swarm City\", \"Waves\", \"Melon\",\n",
    "    \"Golos\", \"DIGIX\", \"SNGLS\",\n",
    "    \"Chronobank\", \"Xaurum\", \"PIVX\",\n",
    "    \"Trustcoin\", \"Edgeless\", \"iExec RLC\",\n",
    "    \"Wings\", \"Byteball\", \"Darcrus\",\n",
    "    \"Gnosis\", \"Guppy\", \"Decred\",\n",
    "    \"Syscoin\", \"Stellar\", \"Basic Attention Token\",\n",
    "    \"Lunyr\", \"Aragon\", \"Bancor\",\n",
    "    \"Status\", \"Civic\", \"TenX\",\n",
    "    \"Qtum\", \"EOS\", \"Bitcoin Cash\",\n",
    "    \"Neo\", \"FirstBlood\", \"OmiseGo\",\n",
    "    \"AdEx\", \"Monaco\", \"0x Protocol\",\n",
    "    \"Metal\"\n",
    "]"
   ]
  },
  {
   "cell_type": "code",
   "execution_count": null,
   "metadata": {
    "collapsed": true
   },
   "outputs": [],
   "source": [
    "coinomi_currencies = [\n",
    "    \"Bitcoin\", \"Abncoin\", \"Asiacoin\", \"Auroracoin\", \"Bata\", \"Befacoin\", \"Bitcoin Plus\",\n",
    "    \"Blackcoin\", \"Britcoin\", \"Canada eCoin\", \"Cannacoin\", \"Clams\", \"Clubcoin\",\n",
    "    \"Compcoin\", \"Dash\", \"Defcoin\", \"Denarius\", \"Digibyte\", \"Digitalcoin\", \"Dogecoin\",\n",
    "    \"Ecoin\", \"EDRCoin\", \"EGulden\", \"Einsteinium\", \"Ethereum\", \"Ethereum Classic\", \"Expanse\",\n",
    "    \"Feathercoin\", \"Flashcoin\", \"Game Credits\", \"GCRcoin\", \"Gridcoin\", \"Gulden\", \"Hempcoin\",\n",
    "    \"Insanecoin\", \"Internet of People\", \"IXCoin\", \"Jumbucks\", \"Landcoin\", \"LBRY Credits\", \"Linx\",\n",
    "    \"Litecoin\", \"Monacoin\", \"Myriadcoin\", \"Namecoin\", \"Navcoin\", \"Neoscoin\", \"Neurocoin\",\n",
    "    \"Novacoin\", \"NuBits\", \"NuShares\", \"OKCash\", \"ParkByte\", \"Peercoin\", \"Pesobit\", \"Pinkcoin\",\n",
    "    \"PIVX\", \"POSW\", \"Potcoin\", \"Putincoin\", \"Reddcoin\", \"Richcoin\", \"Rubycoin\", \"ShadowCash\",\n",
    "    \"SmileyCoin\", \"Solarcoin\", \"Stratis\", \"Syscoin\", \"Ultimate Secure Cash\", \"Unobtanium\",\n",
    "    \"Verge\", \"Vertcoin\", \"Vpncoin\", \"ZCash\", \"ZCoin\"\n",
    "]"
   ]
  },
  {
   "cell_type": "code",
   "execution_count": null,
   "metadata": {
    "collapsed": true
   },
   "outputs": [],
   "source": [
    "def calc_summary(_df):\n",
    "    results = []\n",
    "    \n",
    "    # process rows\n",
    "    for ix, grp in _df.groupby(\"name\"):\n",
    "        rank_diff = grp[\"rank\"].diff()\n",
    "        result = {\n",
    "            \"name\": ix,\n",
    "            \"minRank\": grp[\"rank\"].min(),\n",
    "            \"maxRank\": grp[\"rank\"].max(),\n",
    "            \"negRank\": sum(rank_diff > 0),\n",
    "            \"posRank\": sum(rank_diff < 0),\n",
    "            \"last100RankChanges\": rank_diff[rank_diff != 0].tail(100).sum(),\n",
    "            \"currentRank\": grp[\"rank\"].tail(1).item(),\n",
    "            \"minUSD\": grp.price_usd.min(),\n",
    "            \"maxUSD\": grp.price_usd.max(),\n",
    "            \"curUSD\": grp.price_usd.tail(1).item()\n",
    "        }\n",
    "        results.append(result)\n",
    "    \n",
    "    # create new data frame\n",
    "    _tmp = pd.DataFrame(results, columns=[\n",
    "        \"name\", \"currentRank\", \"minRank\", \"maxRank\",\n",
    "        \"last100RankChanges\", \"negRank\", \"posRank\", \"minUSD\", \"maxUSD\", \"curUSD\"\n",
    "    ])\n",
    "    _tmp[\"perUSD\"] = (_tmp.maxUSD - _tmp.curUSD) / _tmp.curUSD\n",
    "    \n",
    "    return _tmp"
   ]
  },
  {
   "cell_type": "code",
   "execution_count": null,
   "metadata": {
    "collapsed": false
   },
   "outputs": [],
   "source": [
    "df = pd.read_csv(\"coinmarketcap.csv\")\n",
    "df[\"date\"] = df.last_updated.apply(lambda x: datetime.datetime.fromtimestamp(x))\n",
    "df.date.min(), df.date.max(), df.shape"
   ]
  },
  {
   "cell_type": "code",
   "execution_count": null,
   "metadata": {
    "collapsed": false
   },
   "outputs": [],
   "source": [
    "tmp = calc_summary(df[df.name.isin(coinomi_currencies) & (df.date > '2017-11-30')])\n",
    "tmp.sort_values(by=\"last100RankChanges\").query(\"posRank < negRank\").round(decimals=5)"
   ]
  },
  {
   "cell_type": "code",
   "execution_count": null,
   "metadata": {
    "collapsed": false
   },
   "outputs": [],
   "source": [
    "tmp = calc_summary(df[\n",
    "    df.name.isin(set(coinomi_currencies) & set(changelly_currencies)) & (df.date > '2017-11-30')\n",
    "])\n",
    "tmp.sort_values(by=\"last100RankChanges\").query(\"posRank > negRank\").round(decimals=5)"
   ]
  },
  {
   "cell_type": "code",
   "execution_count": null,
   "metadata": {
    "collapsed": false
   },
   "outputs": [],
   "source": [
    "tmp = calc_summary(df[\n",
    "    (df.date > '2017-11-30')\n",
    "])\n",
    "tmp.sort_values(by=\"last100RankChanges\").query(\"posRank-5 > negRank\").round(decimals=5)"
   ]
  },
  {
   "cell_type": "code",
   "execution_count": null,
   "metadata": {
    "collapsed": false
   },
   "outputs": [],
   "source": [
    "tmp = calc_summary(df[df.name.isin(\n",
    "    set(coinomi_currencies) & set(changelly_currencies)\n",
    ")])\n",
    "tmp.sort_values(by=\"last100RankChanges\").query(\"posRank > negRank\").round(decimals=5)"
   ]
  },
  {
   "cell_type": "code",
   "execution_count": null,
   "metadata": {
    "collapsed": false
   },
   "outputs": [],
   "source": [
    "tmp = calc_summary(df[df.name.isin(coinomi_currencies)])\n",
    "tmp.sort_values(by=\"last100RankChanges\").query(\"posRank > negRank\").round(decimals=5)"
   ]
  },
  {
   "cell_type": "code",
   "execution_count": null,
   "metadata": {
    "collapsed": false
   },
   "outputs": [],
   "source": [
    "tmp = calc_summary(df[df.name.isin(\n",
    "    set(changelly_currencies) & set(coinomi_currencies)\n",
    ") & (df.date > '2017-11-01')])\n",
    "tmp.sort_values(by=\"last100RankChanges\").round(decimals=5)"
   ]
  },
  {
   "cell_type": "code",
   "execution_count": null,
   "metadata": {
    "collapsed": false
   },
   "outputs": [],
   "source": [
    "tmp = calc_summary(df[df.name.isin(\n",
    "    set(changelly_currencies) & set(coinomi_currencies)\n",
    ") & (df.date > '2017-10-01')])\n",
    "tmp.sort_values(by=\"last100RankChanges\").query(\"posRank > negRank\").round(decimals=5)"
   ]
  },
  {
   "cell_type": "code",
   "execution_count": null,
   "metadata": {
    "collapsed": false
   },
   "outputs": [],
   "source": [
    "tmp = calc_summary(df[df.name.isin(changelly_currencies)])\n",
    "tmp.sort_values(by=\"last100RankChanges\").query(\"posRank < negRank\").round(decimals=5)"
   ]
  },
  {
   "cell_type": "code",
   "execution_count": null,
   "metadata": {
    "collapsed": false
   },
   "outputs": [],
   "source": [
    "tmp = calc_summary(\n",
    "    df[df.name.isin(changelly_currencies) & (df.date > '2017-09-11')]\n",
    ")\n",
    "tmp.sort_values(by=\"last100RankChanges\").query(\"posRank > negRank\").round(decimals=5)"
   ]
  },
  {
   "cell_type": "code",
   "execution_count": null,
   "metadata": {
    "collapsed": false
   },
   "outputs": [],
   "source": [
    "tmp = calc_summary(\n",
    "    df[df.name.isin(changelly_currencies) & (df.date > '2017-09-12')]\n",
    ")\n",
    "tmp.sort_values(by=\"perUSD\", ascending=False).round(decimals=5)"
   ]
  },
  {
   "cell_type": "code",
   "execution_count": null,
   "metadata": {
    "collapsed": false
   },
   "outputs": [],
   "source": [
    "tmp = calc_summary(df[df.name.isin(coinomi_currencies) & ~df.name.isin(changelly_currencies)])\n",
    "tmp.sort_values(by=\"last100RankChanges\").query(\"posRank > negRank\").round(decimals=5)"
   ]
  },
  {
   "cell_type": "code",
   "execution_count": null,
   "metadata": {
    "collapsed": false
   },
   "outputs": [],
   "source": [
    "tmp = calc_summary(df[~df.name.isin(changelly_currencies)])\n",
    "tmp.sort_values(by=\"last100RankChanges\").query(\"posRank > negRank\").round(decimals=5)"
   ]
  },
  {
   "cell_type": "code",
   "execution_count": null,
   "metadata": {
    "collapsed": false
   },
   "outputs": [],
   "source": [
    "df.query(\"name == 'IOTA' & date > '2017-10-30'\").price_usd.plot(figsize=(12,4))"
   ]
  },
  {
   "cell_type": "code",
   "execution_count": null,
   "metadata": {
    "collapsed": false
   },
   "outputs": [],
   "source": [
    "df.query(\"name == 'MonaCoin'\").pr"
   ]
  },
  {
   "cell_type": "code",
   "execution_count": null,
   "metadata": {
    "collapsed": false
   },
   "outputs": [],
   "source": [
    "df.head()"
   ]
  }
 ],
 "metadata": {
  "kernelspec": {
   "display_name": "Python 3",
   "language": "python",
   "name": "python3"
  },
  "language_info": {
   "codemirror_mode": {
    "name": "ipython",
    "version": 3
   },
   "file_extension": ".py",
   "mimetype": "text/x-python",
   "name": "python",
   "nbconvert_exporter": "python",
   "pygments_lexer": "ipython3",
   "version": "3.6.0"
  }
 },
 "nbformat": 4,
 "nbformat_minor": 2
}
